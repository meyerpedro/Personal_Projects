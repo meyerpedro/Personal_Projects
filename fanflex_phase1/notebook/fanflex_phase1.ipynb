{
 "cells": [
  {
   "cell_type": "code",
   "execution_count": 1,
   "metadata": {},
   "outputs": [],
   "source": [
    "import matplotlib.pyplot as plt\n",
    "import sys\n",
    "import numpy as np\n",
    "np.set_printoptions(threshold=sys.maxsize)\n",
    "import pandas as pd\n",
    "import warnings\n",
    "warnings.simplefilter(action='ignore', category=FutureWarning)\n",
    "\n",
    "pd.set_option(\"display.max_columns\",100, 'display.max_rows',100)"
   ]
  },
  {
   "cell_type": "code",
   "execution_count": 2,
   "metadata": {},
   "outputs": [],
   "source": [
    "shows_played = 0\n",
    "num_venues = 0\n",
    "avg_revenue = 0 \n",
    "total_revenue = 0 \n",
    "avg_ticket_price = 0 \n",
    "tickets_sold = 0"
   ]
  },
  {
   "cell_type": "code",
   "execution_count": 3,
   "metadata": {},
   "outputs": [],
   "source": [
    "d = np.array([[shows_played,num_venues,avg_revenue,total_revenue,avg_ticket_price,tickets_sold]])\n",
    "\n",
    "artist_df = pd.DataFrame(   data = d, \n",
    "                            columns = ['shows_played','num_venues','avg_revenue','total_revenue',\n",
    "                                        'avg_ticket_price','tickets_sold'])"
   ]
  },
  {
   "cell_type": "code",
   "execution_count": 4,
   "metadata": {},
   "outputs": [],
   "source": [
    "#parameters for later use\n",
    "\n",
    "venue_name = np.array(['Ball Arena','Summit Music Hall','Marquis Theater','Dazzle',\n",
    "                                    \"Ophelia's Electric Soapbox\",\"Herb's\",\"Black Buzzard\",\"Paramont Theatre\",\n",
    "                                    \"Roxy Theatre\",\"Cervantes & The Other Side\",\"Mission Ballroom\",\"Larimer Lounge\",\n",
    "                                    \"Globe Hall\",\"Ogden Theatre\",\"Lost Lake\",\"Walnut Room\",\"Globe Hall\",\"Your Mom's House\",\n",
    "                                    \"Herman's Hideway\",\"Broadway Roxy\"])\n",
    "\n",
    "show_col = ['show_id','name', 'age', 'gender', 'tickets_bought']"
   ]
  },
  {
   "cell_type": "code",
   "execution_count": 5,
   "metadata": {},
   "outputs": [],
   "source": [
    "#artist database\n",
    "\n",
    "shows_played = 0\n",
    "num_venues = 0\n",
    "avg_revenue = 0 \n",
    "total_revenue = 0 \n",
    "avg_ticket_price = 0 \n",
    "tickets_sold = 0\n",
    "\n",
    "artist = np.array([[shows_played,num_venues,avg_revenue,total_revenue,avg_ticket_price,tickets_sold]])\n",
    "\n",
    "artist_df = pd.DataFrame(   data = artist, \n",
    "                            columns = ['shows_played','num_venues','avg_revenue','total_revenue',\n",
    "                                        'avg_ticket_price','tickets_sold'])"
   ]
  },
  {
   "cell_type": "code",
   "execution_count": 10,
   "metadata": {},
   "outputs": [],
   "source": [
    "#generating buyer profile\n",
    "\n",
    "def buyer_show(show_num):\n",
    "    ''' \n",
    "        creates buyer profile to be added to panda dataframe\n",
    "        show_num = show number\n",
    "    '''\n",
    "    show_id = show_num\n",
    "    name = np.random.choice(['Kirsty Millington', 'Donald McSherry', 'Charlotte Worth', 'Andre Botelho', \n",
    "                            'Keanu Reeves', 'John Travolta', 'Danzel Washington', 'Marlon Brandon', \n",
    "                            'Reese Witherspoon', 'Maryl Strip', 'Mari Nishida', 'Dustin Hoffman', \n",
    "                            'Bruce Wayne','Tony Stark', 'Peter Parker', 'Scarlett Johanssen', \n",
    "                            'Cristina Abdalla','Ronda Rousey','Joel Miller', 'Kalum Rooney',\n",
    "                            'Luna Timms', 'Margaux Wolfe','Nazifa Jimenez','Wasim Gaines','Oliver Case',\n",
    "                            'Aizah North','Harry Goodwin','Kerys Peralta', 'Bear Williamson',\n",
    "                            'Dani Cunningham', 'Jayda Hutchings','Kobie Sears','Julie Wallace',\n",
    "                            'Garry Mclellan','Virgil Gibbs','Alan Marquez','Fraser Barron'], replace=False)\n",
    "\n",
    "    age = np.random.randint(18, 50)\n",
    "    gender = np.random.choice(['M','F','NB','T'])\n",
    "    num_bought = np.random.randint(1,5)\n",
    "    tickets_bought = np.random.randint(1,5)\n",
    "\n",
    "\n",
    "    buyer_profile = [show_num, name,age,gender, tickets_bought]\n",
    "\n",
    "    return buyer_profile"
   ]
  },
  {
   "cell_type": "code",
   "execution_count": null,
   "metadata": {},
   "outputs": [],
   "source": []
  },
  {
   "cell_type": "code",
   "execution_count": 11,
   "metadata": {},
   "outputs": [],
   "source": [
    "#generating the dataframe per show and adding constant features per show\n",
    "\n",
    "def generate_df(num, show_num, v):\n",
    "    '''\n",
    "    num (int) = total attendees sold\n",
    "    v (str) = venue name\n",
    "    '''\n",
    "    show_data = []\n",
    "    \n",
    "    for i in range(num):\n",
    "        show_data.append(buyer_show(show_num))\n",
    "\n",
    "    show_df = pd.DataFrame(data = show_data, columns = show_col)\n",
    "\n",
    "    show_df['ticket_price']=np.random.choice(np.array([5,10,15,20]))\n",
    "    show_df['total_revenue']= show_df['ticket_price']*show_df['tickets_bought']\n",
    "    show_df['venue_name'] = v\n",
    "\n",
    "    return show_df"
   ]
  },
  {
   "cell_type": "code",
   "execution_count": 12,
   "metadata": {},
   "outputs": [],
   "source": [
    "#concatenating the data for different shows\n",
    "\n",
    "def concat_shows(original_df, to_concat_df):\n",
    "    show_df = pd.concat((original_df, to_concat_df), axis=0)\n",
    "    show_df.reset_index(inplace=True, drop=True)\n",
    "    return show_df"
   ]
  },
  {
   "cell_type": "code",
   "execution_count": 13,
   "metadata": {},
   "outputs": [],
   "source": [
    "show1 = generate_df(np.random.randint(1, 31),1, np.random.choice(venue_name))\n",
    "show2 = generate_df(np.random.randint(1, 31),2, np.random.choice(venue_name))\n",
    "show3 = generate_df(np.random.randint(1, 31),3, np.random.choice(venue_name))\n",
    "show4 = generate_df(np.random.randint(1, 31),4, np.random.choice(venue_name))\n",
    "show5 = generate_df(np.random.randint(1, 31),5, np.random.choice(venue_name))"
   ]
  },
  {
   "cell_type": "code",
   "execution_count": 14,
   "metadata": {},
   "outputs": [],
   "source": [
    "show_df = concat_shows(show1, show2)\n",
    "show_df = concat_shows(show_df, show3)\n",
    "show_df = concat_shows(show_df, show4)\n",
    "show_df = concat_shows(show_df, show5)"
   ]
  },
  {
   "cell_type": "code",
   "execution_count": null,
   "metadata": {},
   "outputs": [],
   "source": [
    "show_df['venue_name'].unique()"
   ]
  },
  {
   "cell_type": "code",
   "execution_count": null,
   "metadata": {},
   "outputs": [],
   "source": [
    "show_df"
   ]
  },
  {
   "cell_type": "code",
   "execution_count": null,
   "metadata": {},
   "outputs": [],
   "source": []
  },
  {
   "cell_type": "code",
   "execution_count": null,
   "metadata": {},
   "outputs": [],
   "source": []
  },
  {
   "cell_type": "code",
   "execution_count": null,
   "metadata": {},
   "outputs": [],
   "source": []
  }
 ],
 "metadata": {
  "kernelspec": {
   "display_name": "Python 3",
   "language": "python",
   "name": "python3"
  },
  "language_info": {
   "codemirror_mode": {
    "name": "ipython",
    "version": 3
   },
   "file_extension": ".py",
   "mimetype": "text/x-python",
   "name": "python",
   "nbconvert_exporter": "python",
   "pygments_lexer": "ipython3",
   "version": "3.7.9"
  }
 },
 "nbformat": 4,
 "nbformat_minor": 4
}
